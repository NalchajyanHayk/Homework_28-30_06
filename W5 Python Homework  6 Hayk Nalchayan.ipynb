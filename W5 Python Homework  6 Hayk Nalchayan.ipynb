{
 "cells": [
  {
   "cell_type": "markdown",
   "id": "e5bb2da5",
   "metadata": {},
   "source": [
    "# W5 Python Homework 6 Hayk Nalchajyan"
   ]
  },
  {
   "cell_type": "markdown",
   "id": "4472440a",
   "metadata": {},
   "source": [
    "### Write a function called merge that takes two already sorted lists of possibly different lengths, and merges them into a single sorted list. Do this without using the sort method."
   ]
  },
  {
   "cell_type": "code",
   "execution_count": 63,
   "id": "944eb8c5",
   "metadata": {},
   "outputs": [],
   "source": [
    "# Buble sort\n",
    "def merge(list1, list2):\n",
    "    lst = list1 + list2\n",
    "    for i in range(len(lst)):\n",
    "        for j in range(len(lst)-i-1):\n",
    "            if lst[j] > lst[j+1]:\n",
    "                lst[j], lst[j+1] = lst[j+1], lst[j]\n",
    "    return lst"
   ]
  },
  {
   "cell_type": "code",
   "execution_count": 65,
   "id": "778e157a",
   "metadata": {},
   "outputs": [
    {
     "data": {
      "text/plain": [
       "[1, 2, 2, 3, 3, 4, 5, 5, 5, 5, 6, 8, 8, 52, 63, 63, 85, 98888]"
      ]
     },
     "execution_count": 65,
     "metadata": {},
     "output_type": "execute_result"
    }
   ],
   "source": [
    "lst1 = [1,2,3,4,5,6,8]\n",
    "lst2 = [5,8,63,98888,63,5,2,52,85,3,5]\n",
    "merge(lst1, lst2)"
   ]
  },
  {
   "cell_type": "code",
   "execution_count": null,
   "id": "3e722b9e",
   "metadata": {},
   "outputs": [],
   "source": []
  },
  {
   "cell_type": "markdown",
   "id": "4ee6a587",
   "metadata": {},
   "source": [
    "### Write a function called int_str that, given an integer less than 1015, returns the name of the integer in English. As an example, int_str(123456) should return one hundred twenty-three thousand, four hundred fifty-six."
   ]
  },
  {
   "cell_type": "code",
   "execution_count": 12,
   "id": "0a24eb4f",
   "metadata": {},
   "outputs": [
    {
     "data": {
      "text/plain": [
       "['one', 'hundred', 'fifty', 'four']"
      ]
     },
     "execution_count": 12,
     "metadata": {},
     "output_type": "execute_result"
    }
   ],
   "source": [
    "numbers = {0:\"zero\", 1:\"one\", 2:\"two\", 3:\"three\", 4:\"four\", 5:\"five\", 6:\"six\", 7:\"seven\", 8:\"eight\", 9:\"nine\",\n",
    "          10:\"ten\", 11:\"eleven\", 12:\"twelve\", 13:\"thirteen\", 14:\"forteen\", 15:\"fifteen\",\n",
    "          16:\"sixteen\", 17:\"seventeen\", 18:\"eighteen\", 19:\"nineteen\"}\n",
    "twenty_plus = {20:\"twenty\", 30:\"thirty\", 40:\"forty\", 50:\"fifty\", 60:\"sixty\", 70:\"seventy\", 80:\"eighty\", 90:\"ninety\"}\n",
    "hundreds_plus = {0:\" \", 100:\"hundred\", 1000:\"thousand\"}\n",
    "\n",
    "    \n",
    "def int_str(number):\n",
    "    numbers = {0:\"zero\", 1:\"one\", 2:\"two\", 3:\"three\", 4:\"four\", 5:\"five\", 6:\"six\", 7:\"seven\", 8:\"eight\", 9:\"nine\",\n",
    "          10:\"ten\", 11:\"eleven\", 12:\"twelve\", 13:\"thirteen\", 14:\"forteen\", 15:\"fifteen\",\n",
    "          16:\"sixteen\", 17:\"seventeen\", 18:\"eighteen\", 19:\"nineteen\"}\n",
    "    twenty_plus = {20:\"twenty\", 30:\"thirty\", 40:\"forty\", 50:\"fifty\", 60:\"sixty\", 70:\"seventy\", 80:\"eighty\", 90:\"ninety\"}\n",
    "    hundreds_plus = {0:\" \", 100:\"hundred\", 1000:\"thousand\"}\n",
    "    output_list = []\n",
    "    \n",
    "    if number > 1015:\n",
    "        return \"wrong input\"\n",
    "    if number < 20:\n",
    "        output_list.append(numbers[number])\n",
    "    elif 19 < number < 100:\n",
    "        first_digit = number%10\n",
    "        second_digit = number - first_digit\n",
    "        output_list.extend([twenty_plus[second_digit], numbers[first_digit]]) \n",
    "    elif 100 <= number < 1000:\n",
    "        hundreds = number // 100\n",
    "        first_digit = number % 10\n",
    "        second_digit = number % 100 - number % 10\n",
    "        output_list.extend([numbers[hundreds], hundreds_plus[100], twenty_plus[second_digit], numbers[first_digit]])\n",
    "    elif number >= 1000:\n",
    "        digits = number%100\n",
    "        output_list.extend([hundreds_plus[1000], numbers[digits]])\n",
    "        \n",
    "    if len(output_list) == 1:\n",
    "        return output_list\n",
    "    elif \"zero\" in output_list:\n",
    "        output_list.remove(\"zero\")\n",
    "        return output_list\n",
    "    return output_list\n",
    "    \n",
    "int_str(154)    "
   ]
  },
  {
   "cell_type": "code",
   "execution_count": 46,
   "id": "6507c314",
   "metadata": {},
   "outputs": [
    {
     "data": {
      "text/plain": [
       "[4]"
      ]
     },
     "execution_count": 46,
     "metadata": {},
     "output_type": "execute_result"
    }
   ],
   "source": [
    "x = [\"zero\", 4]\n",
    "if 'zero' in x:\n",
    "     x.remove(\"zero\")\n",
    "        \n",
    "x"
   ]
  },
  {
   "cell_type": "code",
   "execution_count": null,
   "id": "9dfca2c7",
   "metadata": {},
   "outputs": [],
   "source": []
  },
  {
   "cell_type": "markdown",
   "id": "815fa3dd",
   "metadata": {},
   "source": [
    "### Write a function called is_sorted that is given a list and returns True if the list is sorted and False otherwise. Do this without using the sort method."
   ]
  },
  {
   "cell_type": "code",
   "execution_count": 66,
   "id": "4c22acfa",
   "metadata": {},
   "outputs": [],
   "source": [
    "def is_sorted(lst):\n",
    "    s = 0\n",
    "    for i in range(len(lst)):\n",
    "        for j in range(len(lst)-i-1):\n",
    "            if lst[j] > lst[j+1]:\n",
    "                lst[j], lst[j+1] = lst[j+1], lst[j]\n",
    "                s += 1\n",
    "                return False\n",
    "    return True"
   ]
  },
  {
   "cell_type": "code",
   "execution_count": 69,
   "id": "192048e1",
   "metadata": {},
   "outputs": [
    {
     "data": {
      "text/plain": [
       "False"
      ]
     },
     "execution_count": 69,
     "metadata": {},
     "output_type": "execute_result"
    }
   ],
   "source": [
    "is_sorted([1,2,3,4,5,7,6,7,9,5,85,2,58,5,7])"
   ]
  },
  {
   "cell_type": "code",
   "execution_count": 70,
   "id": "14cb3749",
   "metadata": {},
   "outputs": [
    {
     "data": {
      "text/plain": [
       "True"
      ]
     },
     "execution_count": 70,
     "metadata": {},
     "output_type": "execute_result"
    }
   ],
   "source": [
    "is_sorted([1,2,3,4,5,6,7,8,9,10,11,12,13,14])"
   ]
  },
  {
   "cell_type": "code",
   "execution_count": 72,
   "id": "b88a8041",
   "metadata": {},
   "outputs": [
    {
     "data": {
      "text/plain": [
       "9.42477796076938"
      ]
     },
     "execution_count": 72,
     "metadata": {},
     "output_type": "execute_result"
    }
   ],
   "source": [
    "import math\n",
    "math.pi*3"
   ]
  },
  {
   "cell_type": "markdown",
   "id": "bf2a1a21",
   "metadata": {},
   "source": [
    "### Write a function called calculate_area that takes the radius of a circle as an argument. Inside the function, calculate the area of the circle (πr^2) and print it. Test the function by calling it with different radius values."
   ]
  },
  {
   "cell_type": "code",
   "execution_count": 75,
   "id": "3f97029a",
   "metadata": {},
   "outputs": [],
   "source": [
    "import math\n",
    "def calculate_area(radius):\n",
    "    if radius < 0:\n",
    "        print(\"No negative radius for the circles!! \")\n",
    "    \n",
    "    else:\n",
    "        area = math.pi * (radius**2)\n",
    "        return area"
   ]
  },
  {
   "cell_type": "code",
   "execution_count": 76,
   "id": "54077034",
   "metadata": {},
   "outputs": [
    {
     "data": {
      "text/plain": [
       "615.7521601035994"
      ]
     },
     "execution_count": 76,
     "metadata": {},
     "output_type": "execute_result"
    }
   ],
   "source": [
    "calculate_area(14)"
   ]
  },
  {
   "cell_type": "code",
   "execution_count": 77,
   "id": "774af8d5",
   "metadata": {},
   "outputs": [
    {
     "name": "stdout",
     "output_type": "stream",
     "text": [
      "No negative radius for the circles!! \n"
     ]
    }
   ],
   "source": [
    "calculate_area(-9)"
   ]
  },
  {
   "cell_type": "code",
   "execution_count": null,
   "id": "3af80889",
   "metadata": {},
   "outputs": [],
   "source": []
  },
  {
   "cell_type": "markdown",
   "id": "7c28b700",
   "metadata": {},
   "source": [
    "### Create a global variable called counter and initialize it with 0. Write a function called increment_counter that increments the value of counter by 1 and prints the updated value. Call the function multiple times and observe the changes in the global variable."
   ]
  },
  {
   "cell_type": "code",
   "execution_count": 95,
   "id": "4e958ebe",
   "metadata": {},
   "outputs": [],
   "source": [
    "global_variable = 0"
   ]
  },
  {
   "cell_type": "code",
   "execution_count": 96,
   "id": "b09c9e45",
   "metadata": {},
   "outputs": [],
   "source": [
    "def increment_counter():\n",
    "    global global_variable\n",
    "    global_variable = global_variable + 1\n",
    "    print(global_variable)"
   ]
  },
  {
   "cell_type": "code",
   "execution_count": 101,
   "id": "adbe43ad",
   "metadata": {},
   "outputs": [
    {
     "name": "stdout",
     "output_type": "stream",
     "text": [
      "5\n"
     ]
    }
   ],
   "source": [
    "increment_counter()"
   ]
  },
  {
   "cell_type": "code",
   "execution_count": null,
   "id": "f8e689df",
   "metadata": {},
   "outputs": [],
   "source": []
  },
  {
   "cell_type": "markdown",
   "id": "cf2ad57d",
   "metadata": {},
   "source": [
    "### Write a function called outer_function that takes a parameter x. Inside outer_function, define another function called inner_function that multiplies x by a given factor. Call inner_function from outer_function and print the result."
   ]
  },
  {
   "cell_type": "code",
   "execution_count": 59,
   "id": "b40902b9",
   "metadata": {},
   "outputs": [],
   "source": [
    "def outer_function(x):\n",
    "    def inner_function():\n",
    "        return x*5"
   ]
  },
  {
   "cell_type": "code",
   "execution_count": 60,
   "id": "e1d51f46",
   "metadata": {},
   "outputs": [],
   "source": [
    "outer_function(10)"
   ]
  },
  {
   "cell_type": "markdown",
   "id": "a70c8fb8",
   "metadata": {},
   "source": [
    "### Create a global variable called x and set it to 10. Write a function called my_function that defines a local variable with the same name x and assigns it a value of 20. Inside the function, print the local x variable and the global x variable. Call my_function and observe the output."
   ]
  },
  {
   "cell_type": "code",
   "execution_count": 107,
   "id": "2f8dcba7",
   "metadata": {},
   "outputs": [],
   "source": [
    "x = 10\n",
    "def my_function():\n",
    "    global x\n",
    "    #x = 20\n",
    "    print(f\"Global x is {x}.\")\n",
    "    x = 20\n",
    "    print(f\"Local x is {x}\")"
   ]
  },
  {
   "cell_type": "code",
   "execution_count": 108,
   "id": "3e3edaaf",
   "metadata": {},
   "outputs": [
    {
     "name": "stdout",
     "output_type": "stream",
     "text": [
      "Global x is 10.\n",
      "Local x is 20\n"
     ]
    }
   ],
   "source": [
    "my_function()"
   ]
  },
  {
   "cell_type": "code",
   "execution_count": null,
   "id": "5bdee801",
   "metadata": {},
   "outputs": [],
   "source": []
  },
  {
   "cell_type": "code",
   "execution_count": null,
   "id": "93080293",
   "metadata": {},
   "outputs": [],
   "source": []
  }
 ],
 "metadata": {
  "kernelspec": {
   "display_name": "Python 3 (ipykernel)",
   "language": "python",
   "name": "python3"
  },
  "language_info": {
   "codemirror_mode": {
    "name": "ipython",
    "version": 3
   },
   "file_extension": ".py",
   "mimetype": "text/x-python",
   "name": "python",
   "nbconvert_exporter": "python",
   "pygments_lexer": "ipython3",
   "version": "3.9.13"
  }
 },
 "nbformat": 4,
 "nbformat_minor": 5
}
