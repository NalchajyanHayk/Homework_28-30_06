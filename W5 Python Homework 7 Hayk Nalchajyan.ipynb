{
 "cells": [
  {
   "cell_type": "markdown",
   "id": "e945e3a9",
   "metadata": {},
   "source": [
    "# W5 Python Homework 7 Hayk Nalchajyan"
   ]
  },
  {
   "cell_type": "markdown",
   "id": "3b216d85",
   "metadata": {},
   "source": [
    "### Write a lambda function called add that takes two numbers as arguments and returns their sum."
   ]
  },
  {
   "cell_type": "code",
   "execution_count": 130,
   "id": "18766517",
   "metadata": {},
   "outputs": [],
   "source": [
    "add = lambda x, y: x + y"
   ]
  },
  {
   "cell_type": "code",
   "execution_count": 131,
   "id": "45a985b7",
   "metadata": {},
   "outputs": [
    {
     "data": {
      "text/plain": [
       "15"
      ]
     },
     "execution_count": 131,
     "metadata": {},
     "output_type": "execute_result"
    }
   ],
   "source": [
    "add(7, 8)"
   ]
  },
  {
   "cell_type": "code",
   "execution_count": null,
   "id": "cf925a86",
   "metadata": {},
   "outputs": [],
   "source": []
  },
  {
   "cell_type": "markdown",
   "id": "ab107247",
   "metadata": {},
   "source": [
    "### Implement zip function\n"
   ]
  },
  {
   "cell_type": "code",
   "execution_count": 132,
   "id": "9bdca060",
   "metadata": {},
   "outputs": [],
   "source": [
    "def my_zip(list1, list2):\n",
    "    if len(list1) != len(list2):\n",
    "        print(\"the lengths of the lists should be equal! \")\n",
    "    else:\n",
    "        output_list = []\n",
    "        for i in range(len(list1)):\n",
    "            output_list.append((list1[i], list2[i]))\n",
    "        \n",
    "        return output_list"
   ]
  },
  {
   "cell_type": "code",
   "execution_count": 133,
   "id": "9ac9f719",
   "metadata": {},
   "outputs": [
    {
     "data": {
      "text/plain": [
       "[(1, 'one'), (2, 'two'), (3, 'three'), (4, 'four')]"
      ]
     },
     "execution_count": 133,
     "metadata": {},
     "output_type": "execute_result"
    }
   ],
   "source": [
    "my_zip([1,2,3,4], [\"one\", \"two\", \"three\", \"four\"])"
   ]
  },
  {
   "cell_type": "code",
   "execution_count": null,
   "id": "c7d7b0fb",
   "metadata": {},
   "outputs": [],
   "source": []
  },
  {
   "cell_type": "markdown",
   "id": "1d69147e",
   "metadata": {},
   "source": [
    "### Implement filter function"
   ]
  },
  {
   "cell_type": "code",
   "execution_count": 134,
   "id": "f47381fe",
   "metadata": {},
   "outputs": [],
   "source": [
    "def my_filter(function, my_list):\n",
    "    output = []\n",
    "    for item in my_list:\n",
    "        if function(item):\n",
    "            output.append(item)\n",
    "    return output"
   ]
  },
  {
   "cell_type": "code",
   "execution_count": 135,
   "id": "615d6565",
   "metadata": {},
   "outputs": [
    {
     "data": {
      "text/plain": [
       "['12', '14', '45', '7895']"
      ]
     },
     "execution_count": 135,
     "metadata": {},
     "output_type": "execute_result"
    }
   ],
   "source": [
    "my_filter(str.isdigit, [\"12\", \"hello\", \"14\", \"1185i\", \"45\", \"7895\", \"world\"])"
   ]
  },
  {
   "cell_type": "code",
   "execution_count": null,
   "id": "3c219f42",
   "metadata": {},
   "outputs": [],
   "source": []
  },
  {
   "cell_type": "markdown",
   "id": "4e2f2f8e",
   "metadata": {},
   "source": [
    "### Implement enumerate function"
   ]
  },
  {
   "cell_type": "code",
   "execution_count": 136,
   "id": "2409057f",
   "metadata": {},
   "outputs": [],
   "source": [
    "def my_enumerate(item_list, start):\n",
    "    result_list = []\n",
    "    for item in item_list:\n",
    "        result_list.append((item, start))\n",
    "        start += 1\n",
    "    return result_list"
   ]
  },
  {
   "cell_type": "code",
   "execution_count": 137,
   "id": "7ee78c02",
   "metadata": {},
   "outputs": [
    {
     "data": {
      "text/plain": [
       "[('freshman', 2019), ('sophomore', 2020), ('junior', 2021), ('senior', 2022)]"
      ]
     },
     "execution_count": 137,
     "metadata": {},
     "output_type": "execute_result"
    }
   ],
   "source": [
    "my_enumerate([\"freshman\", \"sophomore\", \"junior\", \"senior\"], 2019)"
   ]
  },
  {
   "cell_type": "code",
   "execution_count": null,
   "id": "195a1bd4",
   "metadata": {},
   "outputs": [],
   "source": []
  },
  {
   "cell_type": "markdown",
   "id": "fa86f38d",
   "metadata": {},
   "source": [
    "### Implement map function"
   ]
  },
  {
   "cell_type": "code",
   "execution_count": 138,
   "id": "3f70a881",
   "metadata": {},
   "outputs": [],
   "source": [
    "def my_map(function, my_list):\n",
    "    result_list = []\n",
    "    for item in my_list:\n",
    "        result_list.append(function(item))\n",
    "    \n",
    "    return result_list"
   ]
  },
  {
   "cell_type": "code",
   "execution_count": 139,
   "id": "bbdd7db2",
   "metadata": {},
   "outputs": [
    {
     "data": {
      "text/plain": [
       "[5, 6, 7, 8, 9, 10, 11, 12, 13]"
      ]
     },
     "execution_count": 139,
     "metadata": {},
     "output_type": "execute_result"
    }
   ],
   "source": [
    "my_map(lambda x: x + 4, [1,2,3,4,5,6,7,8,9])"
   ]
  },
  {
   "cell_type": "code",
   "execution_count": null,
   "id": "1b41f83b",
   "metadata": {},
   "outputs": [],
   "source": []
  },
  {
   "cell_type": "markdown",
   "id": "04a3c454",
   "metadata": {},
   "source": [
    "### Write a function called counter that returns a closure. The closure should keep track of the number of times it has been called and return that count."
   ]
  },
  {
   "cell_type": "code",
   "execution_count": 140,
   "id": "816a555b",
   "metadata": {},
   "outputs": [],
   "source": [
    "def counter():\n",
    "    x = 0\n",
    "    def internal():\n",
    "        nonlocal x\n",
    "        x += 1\n",
    "        return x\n",
    "    return internal"
   ]
  },
  {
   "cell_type": "code",
   "execution_count": null,
   "id": "0baa2ef0",
   "metadata": {},
   "outputs": [],
   "source": []
  },
  {
   "cell_type": "code",
   "execution_count": null,
   "id": "b6d962eb",
   "metadata": {},
   "outputs": [],
   "source": []
  },
  {
   "cell_type": "code",
   "execution_count": null,
   "id": "5d00f393",
   "metadata": {},
   "outputs": [],
   "source": []
  }
 ],
 "metadata": {
  "kernelspec": {
   "display_name": "Python 3 (ipykernel)",
   "language": "python",
   "name": "python3"
  },
  "language_info": {
   "codemirror_mode": {
    "name": "ipython",
    "version": 3
   },
   "file_extension": ".py",
   "mimetype": "text/x-python",
   "name": "python",
   "nbconvert_exporter": "python",
   "pygments_lexer": "ipython3",
   "version": "3.9.13"
  }
 },
 "nbformat": 4,
 "nbformat_minor": 5
}
